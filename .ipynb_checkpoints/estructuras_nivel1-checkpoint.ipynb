{
 "cells": [
  {
   "cell_type": "markdown",
   "id": "a5b41a2e",
   "metadata": {},
   "source": [
    "- Exercici 1\n",
    "\n",
    "L'exercici consisteix a crear un programa que et classifiqui una variable numèrica en funció de l’escala Suspès/Aprovat/Notable/Excel·lent.\n"
   ]
  },
  {
   "cell_type": "code",
   "execution_count": 4,
   "id": "2e01e84d",
   "metadata": {},
   "outputs": [
    {
     "name": "stdout",
     "output_type": "stream",
     "text": [
      "Introduce una nota -1\n",
      "Valor no válido\n"
     ]
    }
   ],
   "source": [
    "nota=input(\"Introduce una nota \")\n",
    "nota=int(nota)\n",
    "if(nota<0):\n",
    "    print(\"Valor no válido\")\n",
    "elif (nota<5):\n",
    "    print(\"Estas suspendido\")\n",
    "elif (nota<7):\n",
    "    print(\"Estas aprovado\")\n",
    "elif(nota<9):\n",
    "    print(\"Has sacado un notable\")\n",
    "elif(nota<=10):\n",
    "    print(\"has sacado un excelente\")\n",
    "    "
   ]
  },
  {
   "cell_type": "markdown",
   "id": "184d1d95",
   "metadata": {},
   "source": [
    "- Exercici 2\n",
    "\n",
    "Utilitzant el següent tutorial Programiz: Python Input, Output and Import crea un programa que et pregunti dos números. T’ha de mostrar un missatge dient si el primer és més gran, el segon és més gran o són iguals."
   ]
  },
  {
   "cell_type": "code",
   "execution_count": 4,
   "id": "54a1633f",
   "metadata": {},
   "outputs": [
    {
     "name": "stdout",
     "output_type": "stream",
     "text": [
      "Introduce el primer número5\n",
      "Introduce el segundo número5\n",
      "Los dos números són iguales.\n"
     ]
    }
   ],
   "source": [
    "num1=input(\"Introduce el primer número: \")\n",
    "num2=input(\"Introduce el segundo número: \")\n",
    "num1=int(num1)\n",
    "num2=int(num2)\n",
    "if (num1>num2):\n",
    "    print(\"El primer número es el mayor.\")\n",
    "elif(num1<num2):\n",
    "    print(\"El segundo número es el mayor.\")  \n",
    "else:\n",
    "    print(\"Los dos números són iguales.\") "
   ]
  },
  {
   "cell_type": "markdown",
   "id": "40c9776e",
   "metadata": {},
   "source": [
    "- Exercici 3\n",
    "\n",
    "Crea un programa que et pregunti el teu nom, i et demani un número. Si el número és 0, hauria de mostrar un missatge d’error. En cas contrari, hauria de mostrar el nom repetit tants cops com indiqui el número. Per exemple, “Joan Joan Joan”.\n"
   ]
  },
  {
   "cell_type": "code",
   "execution_count": 6,
   "id": "22aa55e6",
   "metadata": {},
   "outputs": [
    {
     "name": "stdout",
     "output_type": "stream",
     "text": [
      "Introduce tu nombrekuh\n",
      "Introduce un número5\n",
      "kuh kuh kuh kuh kuh \n"
     ]
    }
   ],
   "source": [
    "name=input(\"Introduce tu nombre: \")\n",
    "num=input(\"Introduce un número: \")\n",
    "num=int(num)\n",
    "if(num<=0):\n",
    "    print(\"valor erróneo\")\n",
    "else:\n",
    "    print((name+\" \")*num)\n"
   ]
  },
  {
   "cell_type": "markdown",
   "id": "6ab184e8",
   "metadata": {},
   "source": [
    "- Exercici 4\n",
    "\n",
    "Crea un programa que donada una llista qualsevol, et digui si es simètrica o no. Si ho és, que et digui quants elements té."
   ]
  },
  {
   "cell_type": "code",
   "execution_count": 7,
   "id": "78db9efa",
   "metadata": {
    "code_folding": []
   },
   "outputs": [
    {
     "name": "stdout",
     "output_type": "stream",
     "text": [
      "La lista [1, 1, 3, 2, 1]es :\n",
      "no simetrica\n",
      "La lista [1, 2, 3, 2, 1]es :\n",
      "simetrica\n",
      "La lista [1, 2, 1]es :\n",
      "simetrica\n",
      "La lista [4, 5, 8, 9, 6]es :\n",
      "no simetrica\n"
     ]
    }
   ],
   "source": [
    "import math\n",
    "def simetrica(array):\n",
    "    centro=math.floor(len(array)/2) #redondeo hacía abajo\n",
    "    simetria=True\n",
    "    i=0\n",
    "   \n",
    "    while i < (centro+1):\n",
    "       \n",
    "        if array[i]!=array[-1+(i*(-1))]:\n",
    "            simetria=False\n",
    "            break\n",
    "        i+=1\n",
    "    if simetria:\n",
    "         print(\"simetrica\")\n",
    "    else:\n",
    "        print(\"no simetrica\")\n",
    "    \n",
    "\n",
    "lista=[1,1,3,2,1]\n",
    "lista2=[1,2,3,2,1]\n",
    "lista3=[1,2,1]\n",
    "lista4=[4,5,8,9,6]\n",
    "print(\"La lista \"+str(lista)+\" es :\")\n",
    "simetrica(lista)\n",
    "print(\"La lista \"+str(lista2)+\" es :\")\n",
    "simetrica(lista2)\n",
    "print(\"La lista \"+str(lista3)+\" es :\")\n",
    "simetrica(lista3)\n",
    "print(\"La lista \"+str(lista4)+\" es :\")\n",
    "simetrica(lista4)"
   ]
  },
  {
   "cell_type": "markdown",
   "id": "24a812ef",
   "metadata": {},
   "source": [
    "- Exercici 5\n",
    "\n",
    "Crea un programa que donada una llista, et digui quants números coincideixen amb la seva posició. Per exemple [3,4,2,0,2,3,6] el 2 i el 6 coincideixen."
   ]
  },
  {
   "cell_type": "code",
   "execution_count": 8,
   "id": "165f20ea",
   "metadata": {},
   "outputs": [
    {
     "name": "stdout",
     "output_type": "stream",
     "text": [
      "Para la siguiente lista: [0, 1, 2, 2, 1, 4, 5, 3]\n",
      "Los valores que coinciden són: [0, 1, 2]\n",
      "Para la siguiente lista: [2, 4, 1, 7, 5, 6, 7]\n",
      "Los valores que coinciden són: []\n",
      "Para la siguiente lista: [1, 2, 4, 3, 5, 6, 2, 1, 7]\n",
      "Los valores que coinciden són: [3]\n"
     ]
    }
   ],
   "source": [
    "\n",
    "def valor_pos(lista):\n",
    "    match=[]\n",
    "    x=0\n",
    "    for i in lista:\n",
    "        if x==i:\n",
    "           match.append(i)\n",
    "        x+=1\n",
    "       \n",
    "    return match\n",
    "\n",
    "eje=[0,1,2,2,1,4,5,3]\n",
    "print(\"Para la siguiente lista: \"+str(eje))\n",
    "print(\"Los valores que coinciden con su posición són: \"+str(valor_pos(eje)))\n",
    "\n",
    "eje2=[2,4,1,7,5,6,7]\n",
    "print(\"Para la siguiente lista: \"+str(eje2))\n",
    "print(\"Los valores que coinciden con su posición són: \"+str(valor_pos(eje2)))\n",
    "\n",
    "eje3=[1,2,4,3,5,6,2,1,7]\n",
    "print(\"Para la siguiente lista: \"+str(eje3))\n",
    "print(\"Los valores que coinciden con su posición són: \"+str(valor_pos(eje3)))\n",
    "        "
   ]
  }
 ],
 "metadata": {
  "hide_input": false,
  "kernelspec": {
   "display_name": "Python 3",
   "language": "python",
   "name": "python3"
  },
  "language_info": {
   "codemirror_mode": {
    "name": "ipython",
    "version": 3
   },
   "file_extension": ".py",
   "mimetype": "text/x-python",
   "name": "python",
   "nbconvert_exporter": "python",
   "pygments_lexer": "ipython3",
   "version": "3.9.7"
  },
  "toc": {
   "base_numbering": 1,
   "nav_menu": {},
   "number_sections": true,
   "sideBar": true,
   "skip_h1_title": false,
   "title_cell": "Table of Contents",
   "title_sidebar": "Contents",
   "toc_cell": false,
   "toc_position": {},
   "toc_section_display": true,
   "toc_window_display": false
  },
  "varInspector": {
   "cols": {
    "lenName": 16,
    "lenType": 16,
    "lenVar": 40
   },
   "kernels_config": {
    "python": {
     "delete_cmd_postfix": "",
     "delete_cmd_prefix": "del ",
     "library": "var_list.py",
     "varRefreshCmd": "print(var_dic_list())"
    },
    "r": {
     "delete_cmd_postfix": ") ",
     "delete_cmd_prefix": "rm(",
     "library": "var_list.r",
     "varRefreshCmd": "cat(var_dic_list()) "
    }
   },
   "types_to_exclude": [
    "module",
    "function",
    "builtin_function_or_method",
    "instance",
    "_Feature"
   ],
   "window_display": false
  }
 },
 "nbformat": 4,
 "nbformat_minor": 5
}
